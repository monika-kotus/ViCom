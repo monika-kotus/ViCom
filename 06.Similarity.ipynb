{
 "cells": [
  {
   "cell_type": "markdown",
   "metadata": {},
   "source": [
    "# 1. Counting synergies"
   ]
  },
  {
   "cell_type": "code",
   "execution_count": 1,
   "metadata": {},
   "outputs": [
    {
     "ename": "ModuleNotFoundError",
     "evalue": "No module named 'pandas'",
     "output_type": "error",
     "traceback": [
      "\u001b[0;31m---------------------------------------------------------------------------\u001b[0m",
      "\u001b[0;31mModuleNotFoundError\u001b[0m                       Traceback (most recent call last)",
      "Cell \u001b[0;32mIn[1], line 1\u001b[0m\n\u001b[0;32m----> 1\u001b[0m \u001b[38;5;28;01mimport\u001b[39;00m\u001b[38;5;250m \u001b[39m\u001b[38;5;21;01mpandas\u001b[39;00m\u001b[38;5;250m \u001b[39m\u001b[38;5;28;01mas\u001b[39;00m\u001b[38;5;250m \u001b[39m\u001b[38;5;21;01mpd\u001b[39;00m\n\u001b[1;32m      2\u001b[0m \u001b[38;5;28;01mfrom\u001b[39;00m\u001b[38;5;250m \u001b[39m\u001b[38;5;21;01mitertools\u001b[39;00m\u001b[38;5;250m \u001b[39m\u001b[38;5;28;01mimport\u001b[39;00m combinations\n\u001b[1;32m      4\u001b[0m \u001b[38;5;66;03m# Load data\u001b[39;00m\n",
      "\u001b[0;31mModuleNotFoundError\u001b[0m: No module named 'pandas'"
     ]
    }
   ],
   "source": [
    "import pandas as pd\n",
    "from itertools import combinations\n",
    "\n",
    "# Load data\n",
    "input_file = \"Data_clean/08.researchers_with_themes_expertise_cleaned.csv\"\n",
    "data = pd.read_csv(input_file)\n",
    "\n",
    "# Ensure Themes_Clean and Expertise_Clean are lists\n",
    "data['Themes_Clean'] = data['Themes_Clean'].apply(lambda x: [item.strip() for item in x.split(';')] if isinstance(x, str) else [])\n",
    "data['Expertise_Clean'] = data['Expertise_Clean'].apply(lambda x: [item.strip() for item in x.split(';')] if isinstance(x, str) else [])\n",
    "\n",
    "# Initialize results list\n",
    "results = []\n",
    "\n",
    "# Generate researcher pairs (symmetric handling)\n",
    "for researcher_a, researcher_b in combinations(data['Full Name'], 2):\n",
    "    row_a = data[data['Full Name'] == researcher_a].iloc[0]\n",
    "    row_b = data[data['Full Name'] == researcher_b].iloc[0]\n",
    "\n",
    "    # Find shared synergies (themes and expertise overlap)\n",
    "    shared_themes = set(row_a['Themes_Clean']).intersection(row_b['Themes_Clean'])\n",
    "    shared_expertise = set(row_a['Expertise_Clean']).intersection(row_b['Expertise_Clean'])\n",
    "    overlap_count = len(shared_themes) + len(shared_expertise)\n",
    "\n",
    "    # Combine themes and expertise for shared synergies\n",
    "    shared_synergies = shared_themes.union(shared_expertise)\n",
    "\n",
    "    # Add both directions for the pair\n",
    "    if overlap_count > 0:\n",
    "        results.append({\n",
    "            \"Researcher_A\": researcher_a,\n",
    "            \"Researcher_B\": researcher_b,\n",
    "            \"Shared_synergies_count\": overlap_count,\n",
    "            \"Shared_synergies\": \"; \".join(sorted(shared_synergies)),\n",
    "        })\n",
    "        results.append({\n",
    "            \"Researcher_A\": researcher_b,\n",
    "            \"Researcher_B\": researcher_a,\n",
    "            \"Shared_synergies_count\": overlap_count,\n",
    "            \"Shared_synergies\": \"; \".join(sorted(shared_synergies)),\n",
    "        })\n",
    "\n",
    "# Create output DataFrame\n",
    "results_df = pd.DataFrame(results)\n",
    "\n",
    "# Sort by researcher names and synergies count (descending for synergies count)\n",
    "results_df.sort_values(by=[\"Researcher_A\", \"Shared_synergies_count\"], ascending=[True, False], inplace=True)\n",
    "\n",
    "# Save to output file\n",
    "output_file = \"Data_clean/09.potential_collaborations.csv\"\n",
    "results_df.to_csv(output_file, index=False)\n",
    "\n",
    "print(f\"Results saved to {output_file}\")\n"
   ]
  },
  {
   "cell_type": "code",
   "execution_count": null,
   "metadata": {},
   "outputs": [],
   "source": [
    "import pandas as pd\n"
   ]
  }
 ],
 "metadata": {
  "kernelspec": {
   "display_name": "Python 3",
   "language": "python",
   "name": "python3"
  },
  "language_info": {
   "codemirror_mode": {
    "name": "ipython",
    "version": 3
   },
   "file_extension": ".py",
   "mimetype": "text/x-python",
   "name": "python",
   "nbconvert_exporter": "python",
   "pygments_lexer": "ipython3",
   "version": "3.9.6"
  }
 },
 "nbformat": 4,
 "nbformat_minor": 2
}
